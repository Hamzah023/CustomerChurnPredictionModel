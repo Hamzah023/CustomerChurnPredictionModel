{
 "cells": [
  {
   "cell_type": "code",
   "execution_count": null,
   "id": "f13722f0-b003-4dfa-9b3b-32250c7b2f75",
   "metadata": {},
   "outputs": [],
   "source": [
    "import pandas as pd\n",
    "from sklearn.model_selection import train_test_split\n",
    "from sklearn.ensemble import RandomForestClassifier\n",
    "from sklearn.metrics import classification_report, confusion_matrix\n",
    "import seaborn as sns\n",
    "import matplotlib.pyplot as plt\n",
    "import os"
   ]
  },
  {
   "cell_type": "code",
   "execution_count": null,
   "id": "03822e2a-440a-4a9e-b916-8a120a80caf1",
   "metadata": {},
   "outputs": [
    {
     "data": {
      "text/plain": [
       "/Users/hamzah/LocalDocuments/LocalProjects/CustomerChurnPredictionModel\n"
      ]
     },
     "metadata": {},
     "output_type": "display_data"
    }
   ],
   "source": [
    "print(os.getcwd())\n",
    "\n",
    "balanced_data_path = \"data/balanced_telco_data.csv\"\n",
    "\n",
    "# Load the data into DataFrames\n",
    "df_balanced = pd.read_csv(balanced_data_path)\n",
    "\n",
    "df_balanced.head()"
   ]
  },
  {
   "cell_type": "code",
   "execution_count": null,
   "id": "76c2c00b-f0c5-49e1-947c-d592161a7be6",
   "metadata": {},
   "outputs": [
    {
     "data": {
      "text/plain": [
       "Training set size: (8262, 43)\n",
       "Testing set size: (2066, 43)\n"
      ]
     },
     "metadata": {},
     "output_type": "display_data"
    }
   ],
   "source": [
    "# Separate features and target\n",
    "X = df_balanced.drop(columns=['Churn_Yes'])  # Features\n",
    "y = df_balanced['Churn_Yes']                # Target\n",
    "\n",
    "# Split the data into training and testing sets\n",
    "X_train, X_test, y_train, y_test = train_test_split(X, y, test_size=0.2, random_state=42)\n",
    "\n",
    "print(f\"Training set size: {X_train.shape}\")\n",
    "print(f\"Testing set size: {X_test.shape}\")"
   ]
  },
  {
   "cell_type": "code",
   "execution_count": null,
   "id": "3cf13c61-3a59-4ae8-b383-eb96f790308d",
   "metadata": {},
   "outputs": [],
   "source": [
    "\n",
    "model = RandomForestClassifier(random_state=42)\n",
    "\n",
    "# Train the model\n",
    "model.fit(X_train, y_train)\n",
    "\n",
    "\n",
    "y_pred = model.predict(X_test)"
   ]
  },
  {
   "cell_type": "code",
   "execution_count": null,
   "id": "e1521b51-0923-4ef0-a68c-679c9f51fbef",
   "metadata": {},
   "outputs": [
    {
     "data": {
      "text/plain": [
       "Confusion Matrix:\n",
       "[[840 194]\n",
       " [136 896]]\n",
       "\n",
       "Classification Report:\n",
       "              precision    recall  f1-score   support\n",
       "\n",
       "           0       0.86      0.81      0.84      1034\n",
       "           1       0.82      0.87      0.84      1032\n",
       "\n",
       "    accuracy                           0.84      2066\n",
       "   macro avg       0.84      0.84      0.84      2066\n",
       "weighted avg       0.84      0.84      0.84      2066\n",
       "\n"
      ]
     },
     "metadata": {},
     "output_type": "display_data"
    }
   ],
   "source": [
    "\n",
    "print(\"Confusion Matrix:\")\n",
    "print(confusion_matrix(y_test, y_pred))\n",
    "\n",
    "print(\"\\nClassification Report:\")\n",
    "print(classification_report(y_test, y_pred))"
   ]
  },
  {
   "cell_type": "code",
   "execution_count": null,
   "id": "11e8ed76-c619-416d-bfa5-ec1c3e5f5bcb",
   "metadata": {},
   "outputs": [
    {
     "data": {
      "text/plain": [
       "Traceback (most recent call last):\n",
       "  File \"/Users/hamzah/.vscode/extensions/ms-python.python-2025.2.0-darwin-arm64/python_files/python_server.py\", line 133, in exec_user_input\n",
       "    retval = callable_(user_input, user_globals)\n",
       "             ^^^^^^^^^^^^^^^^^^^^^^^^^^^^^^^^^^^\n",
       "  File \"<string>\", line 20, in <module>\n",
       "  File \"/Users/hamzah/LocalDocuments/LocalProjects/CustomerChurnPredictionModel/customerChurnPrediction/lib/python3.12/site-packages/matplotlib/pyplot.py\", line 614, in show\n",
       "    return _get_backend_mod().show(*args, **kwargs)\n",
       "           ^^^^^^^^^^^^^^^^^^^^^^^^^^^^^^^^^^^^^^^^\n",
       "  File \"/Users/hamzah/LocalDocuments/LocalProjects/CustomerChurnPredictionModel/customerChurnPrediction/lib/python3.12/site-packages/matplotlib/backend_bases.py\", line 3547, in show\n",
       "    cls.mainloop()\n",
       "  File \"/Users/hamzah/LocalDocuments/LocalProjects/CustomerChurnPredictionModel/customerChurnPrediction/lib/python3.12/site-packages/matplotlib/backends/backend_macosx.py\", line 179, in start_main_loop\n",
       "    with _allow_interrupt_macos():\n",
       "         ^^^^^^^^^^^^^^^^^^^^^^^^\n",
       "  File \"/Library/Frameworks/Python.framework/Versions/3.12/lib/python3.12/contextlib.py\", line 144, in __exit__\n",
       "    next(self.gen)\n",
       "  File \"/Users/hamzah/LocalDocuments/LocalProjects/CustomerChurnPredictionModel/customerChurnPrediction/lib/python3.12/site-packages/matplotlib/backend_bases.py\", line 1658, in _allow_interrupt\n",
       "    old_sigint_handler(*handler_args)\n",
       "KeyboardInterrupt\n",
       "\n"
      ]
     },
     "metadata": {},
     "output_type": "display_data"
    }
   ],
   "source": [
    "\n",
    "# Plot confusion matrix\n",
    "conf_matrix = confusion_matrix(y_test, y_pred)\n",
    "sns.heatmap(conf_matrix, annot=True, fmt='d', cmap='Blues', xticklabels=['No Churn', 'Churn'], yticklabels=['No Churn', 'Churn'])\n",
    "plt.xlabel('Predicted')\n",
    "plt.ylabel('Actual')\n",
    "plt.title('Confusion Matrix')\n",
    "\n",
    "\n",
    "models_dir = \"../models\"\n",
    "if not os.path.exists(models_dir):\n",
    "    os.makedirs(models_dir)  # Create the directory if it doesn't exist\n",
    "\n",
    "graph_path = os.path.join(models_dir, \"confusion_matrix.png\")\n",
    "\n",
    "\n",
    "plt.savefig(graph_path)\n",
    "\n",
    "# Display the plot in the notebook\n",
    "plt.show()\n",
    "\n",
    "print(f\"Graph saved successfully at {graph_path}\")"
   ]
  },
  {
   "cell_type": "code",
   "execution_count": null,
   "id": "846f0509-9943-4289-b587-4a78e8ba9b79",
   "metadata": {},
   "outputs": [
    {
     "data": {
      "text/plain": [
       "Model saved successfully at ../models/churn_prediction_model.pkl\n",
       "Model loaded successfully!\n"
      ]
     },
     "metadata": {},
     "output_type": "display_data"
    }
   ],
   "source": [
    "import joblib\n",
    "\n",
    "#save model\n",
    "modelPath = \"../models/churn_prediction_model.pkl\"\n",
    "joblib.dump(model, modelPath)\n",
    "\n",
    "print(f\"Model saved successfully at {modelPath}\")\n",
    "\n",
    "model = joblib.load(\"../models/churn_prediction_model.pkl\")\n",
    "print(\"Model loaded successfully!\")"
   ]
  }
 ],
 "metadata": {
  "kernelspec": {
   "display_name": "Python 3 (ipykernel)",
   "language": "python",
   "name": "python3"
  },
  "language_info": {
   "codemirror_mode": {
    "name": "ipython",
    "version": 3
   },
   "file_extension": ".py",
   "mimetype": "text/x-python",
   "name": "python",
   "nbconvert_exporter": "python",
   "pygments_lexer": "ipython3",
   "version": "3.12.6"
  }
 },
 "nbformat": 4,
 "nbformat_minor": 5
}
